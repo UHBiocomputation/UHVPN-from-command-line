{
 "cells": [
  {
   "cell_type": "code",
   "execution_count": 1,
   "id": "099873fe",
   "metadata": {},
   "outputs": [],
   "source": [
    "from webdriver_manager.chrome import ChromeDriverManager\n",
    "from selenium import webdriver\n",
    "from selenium.webdriver import Chrome\n",
    "from selenium.webdriver.chrome.service import Service\n",
    "from selenium.webdriver.chrome.options import Options\n",
    "from selenium.webdriver import ChromeOptions\n",
    "from selenium.webdriver.common.by import By\n",
    "from selenium.webdriver.support.ui import WebDriverWait\n",
    "from selenium.webdriver.support.expected_conditions import title_is,presence_of_element_located\n",
    "from getpass import getpass\n",
    "import time\n"
   ]
  },
  {
   "cell_type": "code",
   "execution_count": 2,
   "id": "9c040aa5",
   "metadata": {},
   "outputs": [
    {
     "name": "stderr",
     "output_type": "stream",
     "text": [
      "\n",
      "\n",
      "====== WebDriver manager ======\n",
      "Current google-chrome version is 97.0.4692\n",
      "Get LATEST chromedriver version for 97.0.4692 google-chrome\n",
      "Driver [/Users/ms16aay/.wdm/drivers/chromedriver/mac64/97.0.4692.71/chromedriver] found in cache\n"
     ]
    }
   ],
   "source": [
    "service = Service(executable_path=ChromeDriverManager().install())\n"
   ]
  },
  {
   "cell_type": "code",
   "execution_count": 3,
   "id": "6cf5fb5e",
   "metadata": {},
   "outputs": [],
   "source": [
    "options = Options()\n",
    "options.page_load_strategy = 'normal'"
   ]
  },
  {
   "cell_type": "code",
   "execution_count": 4,
   "id": "06e99355",
   "metadata": {},
   "outputs": [],
   "source": [
    "driver = webdriver.Chrome(service=service, options=options)\n",
    "time.sleep(3)"
   ]
  },
  {
   "cell_type": "code",
   "execution_count": 5,
   "id": "8dd4a7d7",
   "metadata": {},
   "outputs": [],
   "source": [
    "driver.get(\"http://uhvpn.herts.ac.uk\") "
   ]
  },
  {
   "cell_type": "code",
   "execution_count": 6,
   "id": "0f9705b3",
   "metadata": {},
   "outputs": [],
   "source": [
    "name = driver.find_element(By.NAME,'UserName')"
   ]
  },
  {
   "cell_type": "code",
   "execution_count": 7,
   "id": "49a74a5d",
   "metadata": {},
   "outputs": [],
   "source": [
    "name.send_keys('ms16aay@herts.ac.uk')"
   ]
  },
  {
   "cell_type": "code",
   "execution_count": 8,
   "id": "89e2a1b2",
   "metadata": {},
   "outputs": [
    {
     "name": "stdout",
     "output_type": "stream",
     "text": [
      "password········\n"
     ]
    }
   ],
   "source": [
    "pw = getpass('password')"
   ]
  },
  {
   "cell_type": "code",
   "execution_count": 9,
   "id": "8018254c",
   "metadata": {},
   "outputs": [],
   "source": [
    "passwdfield = driver.find_element(By.NAME, 'Password')"
   ]
  },
  {
   "cell_type": "code",
   "execution_count": 10,
   "id": "aa119d3e",
   "metadata": {},
   "outputs": [],
   "source": [
    "passwdfield.send_keys(pw)"
   ]
  },
  {
   "cell_type": "code",
   "execution_count": 11,
   "id": "ba091915",
   "metadata": {},
   "outputs": [],
   "source": [
    "signinbutton = driver.find_element(By.ID, 'submitButton')"
   ]
  },
  {
   "cell_type": "code",
   "execution_count": 12,
   "id": "7f25c296",
   "metadata": {},
   "outputs": [],
   "source": [
    "signinbutton.click()"
   ]
  },
  {
   "cell_type": "code",
   "execution_count": 13,
   "id": "beaa8c64",
   "metadata": {},
   "outputs": [
    {
     "data": {
      "text/plain": [
       "True"
      ]
     },
     "execution_count": 13,
     "metadata": {},
     "output_type": "execute_result"
    }
   ],
   "source": [
    "WebDriverWait(driver,timeout=60).until(title_is(\"Duo Security\"))"
   ]
  },
  {
   "cell_type": "code",
   "execution_count": 14,
   "id": "2d08cf4f",
   "metadata": {},
   "outputs": [],
   "source": [
    "iframe = WebDriverWait(driver, timeout=10).until(lambda d: d.find_element(By.ID,'duo_iframe'))"
   ]
  },
  {
   "cell_type": "code",
   "execution_count": 15,
   "id": "0343be15",
   "metadata": {},
   "outputs": [],
   "source": [
    "driver.switch_to.frame(iframe)"
   ]
  },
  {
   "cell_type": "code",
   "execution_count": 16,
   "id": "7fa86bb2",
   "metadata": {},
   "outputs": [],
   "source": [
    "wrapper = WebDriverWait(driver, timeout=10).until(lambda d: d.find_element(By.CLASS_NAME,'device-select-wrapper'))"
   ]
  },
  {
   "cell_type": "code",
   "execution_count": 17,
   "id": "2bf79aac",
   "metadata": {},
   "outputs": [],
   "source": [
    "driver.switch_to.default_content()"
   ]
  },
  {
   "cell_type": "code",
   "execution_count": 18,
   "id": "7ff083ec",
   "metadata": {},
   "outputs": [],
   "source": [
    "iframe = driver.find_element(By.ID, \"duo_iframe\")"
   ]
  },
  {
   "cell_type": "code",
   "execution_count": 19,
   "id": "82f4c8c0",
   "metadata": {},
   "outputs": [],
   "source": [
    "iframe.send_keys('\\n')"
   ]
  },
  {
   "cell_type": "code",
   "execution_count": 21,
   "id": "3a7d4f22",
   "metadata": {},
   "outputs": [
    {
     "data": {
      "text/plain": [
       "True"
      ]
     },
     "execution_count": 21,
     "metadata": {},
     "output_type": "execute_result"
    }
   ],
   "source": [
    "WebDriverWait(driver,timeout=60).until(title_is(\"Secure Connect Secure - Home\"))"
   ]
  },
  {
   "cell_type": "code",
   "execution_count": 22,
   "id": "634e2189",
   "metadata": {},
   "outputs": [],
   "source": [
    "dsid_cookie = driver.get_cookie('DSID')"
   ]
  },
  {
   "cell_type": "code",
   "execution_count": 23,
   "id": "e64e0d7d",
   "metadata": {},
   "outputs": [
    {
     "name": "stdout",
     "output_type": "stream",
     "text": [
      "062d8bb131a9b2f5cb177e0851a36806\n"
     ]
    }
   ],
   "source": [
    "print(dsid_cookie['value'])"
   ]
  },
  {
   "cell_type": "code",
   "execution_count": 24,
   "id": "f083691a",
   "metadata": {},
   "outputs": [],
   "source": [
    "driver.quit()\n"
   ]
  },
  {
   "cell_type": "code",
   "execution_count": null,
   "id": "b762172b",
   "metadata": {},
   "outputs": [],
   "source": []
  }
 ],
 "metadata": {
  "kernelspec": {
   "display_name": "Python 3 (ipykernel)",
   "language": "python",
   "name": "python3"
  },
  "language_info": {
   "codemirror_mode": {
    "name": "ipython",
    "version": 3
   },
   "file_extension": ".py",
   "mimetype": "text/x-python",
   "name": "python",
   "nbconvert_exporter": "python",
   "pygments_lexer": "ipython3",
   "version": "3.10.2"
  }
 },
 "nbformat": 4,
 "nbformat_minor": 5
}
